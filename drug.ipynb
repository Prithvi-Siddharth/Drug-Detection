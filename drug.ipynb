{
 "cells": [
  {
   "cell_type": "code",
   "execution_count": 200,
   "id": "819ab026",
   "metadata": {},
   "outputs": [],
   "source": [
    "import pandas as pd\n",
    "import numpy as np\n",
    "import matplotlib.pyplot as plt\n",
    "from sklearn.compose import ColumnTransformer\n",
    "from sklearn.preprocessing import LabelEncoder, RobustScaler, PowerTransformer, MinMaxScaler\n",
    "import re\n",
    "from sklearn.pipeline import Pipeline\n",
    "from sklearn.ensemble import RandomForestRegressor"
   ]
  },
  {
   "cell_type": "code",
   "execution_count": 201,
   "id": "a1dd946f",
   "metadata": {},
   "outputs": [
    {
     "data": {
      "text/html": [
       "<div>\n",
       "<style scoped>\n",
       "    .dataframe tbody tr th:only-of-type {\n",
       "        vertical-align: middle;\n",
       "    }\n",
       "\n",
       "    .dataframe tbody tr th {\n",
       "        vertical-align: top;\n",
       "    }\n",
       "\n",
       "    .dataframe thead th {\n",
       "        text-align: right;\n",
       "    }\n",
       "</style>\n",
       "<table border=\"1\" class=\"dataframe\">\n",
       "  <thead>\n",
       "    <tr style=\"text-align: right;\">\n",
       "      <th></th>\n",
       "      <th>drug_name</th>\n",
       "      <th>medical_condition</th>\n",
       "      <th>side_effects</th>\n",
       "      <th>generic_name</th>\n",
       "      <th>drug_classes</th>\n",
       "      <th>brand_names</th>\n",
       "      <th>activity</th>\n",
       "      <th>rx_otc</th>\n",
       "      <th>pregnancy_category</th>\n",
       "      <th>csa</th>\n",
       "      <th>alcohol</th>\n",
       "      <th>related_drugs</th>\n",
       "      <th>medical_condition_description</th>\n",
       "      <th>rating</th>\n",
       "      <th>no_of_reviews</th>\n",
       "      <th>drug_link</th>\n",
       "      <th>medical_condition_url</th>\n",
       "    </tr>\n",
       "  </thead>\n",
       "  <tbody>\n",
       "    <tr>\n",
       "      <th>0</th>\n",
       "      <td>doxycycline</td>\n",
       "      <td>Acne</td>\n",
       "      <td>(hives, difficult breathing, swelling in your ...</td>\n",
       "      <td>doxycycline</td>\n",
       "      <td>Miscellaneous antimalarials, Tetracyclines</td>\n",
       "      <td>Acticlate, Adoxa CK, Adoxa Pak, Adoxa TT, Alod...</td>\n",
       "      <td>87%</td>\n",
       "      <td>Rx</td>\n",
       "      <td>D</td>\n",
       "      <td>N</td>\n",
       "      <td>X</td>\n",
       "      <td>amoxicillin: https://www.drugs.com/amoxicillin...</td>\n",
       "      <td>Acne Other names: Acne Vulgaris; Blackheads; B...</td>\n",
       "      <td>6.8</td>\n",
       "      <td>760.0</td>\n",
       "      <td>https://www.drugs.com/doxycycline.html</td>\n",
       "      <td>https://www.drugs.com/condition/acne.html</td>\n",
       "    </tr>\n",
       "    <tr>\n",
       "      <th>1</th>\n",
       "      <td>spironolactone</td>\n",
       "      <td>Acne</td>\n",
       "      <td>hives ; difficulty breathing; swelling of your...</td>\n",
       "      <td>spironolactone</td>\n",
       "      <td>Aldosterone receptor antagonists, Potassium-sp...</td>\n",
       "      <td>Aldactone, CaroSpir</td>\n",
       "      <td>82%</td>\n",
       "      <td>Rx</td>\n",
       "      <td>C</td>\n",
       "      <td>N</td>\n",
       "      <td>X</td>\n",
       "      <td>amlodipine: https://www.drugs.com/amlodipine.h...</td>\n",
       "      <td>Acne Other names: Acne Vulgaris; Blackheads; B...</td>\n",
       "      <td>7.2</td>\n",
       "      <td>449.0</td>\n",
       "      <td>https://www.drugs.com/spironolactone.html</td>\n",
       "      <td>https://www.drugs.com/condition/acne.html</td>\n",
       "    </tr>\n",
       "    <tr>\n",
       "      <th>2</th>\n",
       "      <td>minocycline</td>\n",
       "      <td>Acne</td>\n",
       "      <td>skin rash, fever, swollen glands, flu-like sym...</td>\n",
       "      <td>minocycline</td>\n",
       "      <td>Tetracyclines</td>\n",
       "      <td>Dynacin, Minocin, Minolira, Solodyn, Ximino, V...</td>\n",
       "      <td>48%</td>\n",
       "      <td>Rx</td>\n",
       "      <td>D</td>\n",
       "      <td>N</td>\n",
       "      <td>NaN</td>\n",
       "      <td>amoxicillin: https://www.drugs.com/amoxicillin...</td>\n",
       "      <td>Acne Other names: Acne Vulgaris; Blackheads; B...</td>\n",
       "      <td>5.7</td>\n",
       "      <td>482.0</td>\n",
       "      <td>https://www.drugs.com/minocycline.html</td>\n",
       "      <td>https://www.drugs.com/condition/acne.html</td>\n",
       "    </tr>\n",
       "    <tr>\n",
       "      <th>3</th>\n",
       "      <td>Accutane</td>\n",
       "      <td>Acne</td>\n",
       "      <td>problems with your vision or hearing; muscle o...</td>\n",
       "      <td>isotretinoin (oral)</td>\n",
       "      <td>Miscellaneous antineoplastics, Miscellaneous u...</td>\n",
       "      <td>NaN</td>\n",
       "      <td>41%</td>\n",
       "      <td>Rx</td>\n",
       "      <td>X</td>\n",
       "      <td>N</td>\n",
       "      <td>X</td>\n",
       "      <td>doxycycline: https://www.drugs.com/doxycycline...</td>\n",
       "      <td>Acne Other names: Acne Vulgaris; Blackheads; B...</td>\n",
       "      <td>7.9</td>\n",
       "      <td>623.0</td>\n",
       "      <td>https://www.drugs.com/accutane.html</td>\n",
       "      <td>https://www.drugs.com/condition/acne.html</td>\n",
       "    </tr>\n",
       "    <tr>\n",
       "      <th>4</th>\n",
       "      <td>clindamycin</td>\n",
       "      <td>Acne</td>\n",
       "      <td>hives ; difficult breathing; swelling of your ...</td>\n",
       "      <td>clindamycin topical</td>\n",
       "      <td>Topical acne agents, Vaginal anti-infectives</td>\n",
       "      <td>Cleocin T, Clindacin ETZ, Clindacin P, Clindag...</td>\n",
       "      <td>39%</td>\n",
       "      <td>Rx</td>\n",
       "      <td>B</td>\n",
       "      <td>N</td>\n",
       "      <td>NaN</td>\n",
       "      <td>doxycycline: https://www.drugs.com/doxycycline...</td>\n",
       "      <td>Acne Other names: Acne Vulgaris; Blackheads; B...</td>\n",
       "      <td>7.4</td>\n",
       "      <td>146.0</td>\n",
       "      <td>https://www.drugs.com/mtm/clindamycin-topical....</td>\n",
       "      <td>https://www.drugs.com/condition/acne.html</td>\n",
       "    </tr>\n",
       "  </tbody>\n",
       "</table>\n",
       "</div>"
      ],
      "text/plain": [
       "        drug_name medical_condition  \\\n",
       "0     doxycycline              Acne   \n",
       "1  spironolactone              Acne   \n",
       "2     minocycline              Acne   \n",
       "3        Accutane              Acne   \n",
       "4     clindamycin              Acne   \n",
       "\n",
       "                                        side_effects         generic_name  \\\n",
       "0  (hives, difficult breathing, swelling in your ...          doxycycline   \n",
       "1  hives ; difficulty breathing; swelling of your...       spironolactone   \n",
       "2  skin rash, fever, swollen glands, flu-like sym...          minocycline   \n",
       "3  problems with your vision or hearing; muscle o...  isotretinoin (oral)   \n",
       "4  hives ; difficult breathing; swelling of your ...  clindamycin topical   \n",
       "\n",
       "                                        drug_classes  \\\n",
       "0         Miscellaneous antimalarials, Tetracyclines   \n",
       "1  Aldosterone receptor antagonists, Potassium-sp...   \n",
       "2                                      Tetracyclines   \n",
       "3  Miscellaneous antineoplastics, Miscellaneous u...   \n",
       "4       Topical acne agents, Vaginal anti-infectives   \n",
       "\n",
       "                                         brand_names activity rx_otc  \\\n",
       "0  Acticlate, Adoxa CK, Adoxa Pak, Adoxa TT, Alod...      87%     Rx   \n",
       "1                                Aldactone, CaroSpir      82%     Rx   \n",
       "2  Dynacin, Minocin, Minolira, Solodyn, Ximino, V...      48%     Rx   \n",
       "3                                                NaN      41%     Rx   \n",
       "4  Cleocin T, Clindacin ETZ, Clindacin P, Clindag...      39%     Rx   \n",
       "\n",
       "  pregnancy_category csa alcohol  \\\n",
       "0                  D   N       X   \n",
       "1                  C   N       X   \n",
       "2                  D   N     NaN   \n",
       "3                  X   N       X   \n",
       "4                  B   N     NaN   \n",
       "\n",
       "                                       related_drugs  \\\n",
       "0  amoxicillin: https://www.drugs.com/amoxicillin...   \n",
       "1  amlodipine: https://www.drugs.com/amlodipine.h...   \n",
       "2  amoxicillin: https://www.drugs.com/amoxicillin...   \n",
       "3  doxycycline: https://www.drugs.com/doxycycline...   \n",
       "4  doxycycline: https://www.drugs.com/doxycycline...   \n",
       "\n",
       "                       medical_condition_description  rating  no_of_reviews  \\\n",
       "0  Acne Other names: Acne Vulgaris; Blackheads; B...     6.8          760.0   \n",
       "1  Acne Other names: Acne Vulgaris; Blackheads; B...     7.2          449.0   \n",
       "2  Acne Other names: Acne Vulgaris; Blackheads; B...     5.7          482.0   \n",
       "3  Acne Other names: Acne Vulgaris; Blackheads; B...     7.9          623.0   \n",
       "4  Acne Other names: Acne Vulgaris; Blackheads; B...     7.4          146.0   \n",
       "\n",
       "                                           drug_link  \\\n",
       "0             https://www.drugs.com/doxycycline.html   \n",
       "1          https://www.drugs.com/spironolactone.html   \n",
       "2             https://www.drugs.com/minocycline.html   \n",
       "3                https://www.drugs.com/accutane.html   \n",
       "4  https://www.drugs.com/mtm/clindamycin-topical....   \n",
       "\n",
       "                       medical_condition_url  \n",
       "0  https://www.drugs.com/condition/acne.html  \n",
       "1  https://www.drugs.com/condition/acne.html  \n",
       "2  https://www.drugs.com/condition/acne.html  \n",
       "3  https://www.drugs.com/condition/acne.html  \n",
       "4  https://www.drugs.com/condition/acne.html  "
      ]
     },
     "execution_count": 201,
     "metadata": {},
     "output_type": "execute_result"
    }
   ],
   "source": [
    "df = pd.read_csv('drugsdata.csv')\n",
    "df.head()"
   ]
  },
  {
   "cell_type": "code",
   "execution_count": 202,
   "id": "33cfee4d",
   "metadata": {},
   "outputs": [],
   "source": [
    "df = df.drop(columns=['related_drugs', 'drug_link', 'medical_condition_url', 'brand_names', 'medical_condition_description', 'generic_name'])"
   ]
  },
  {
   "cell_type": "code",
   "execution_count": 203,
   "id": "aec2d079",
   "metadata": {},
   "outputs": [],
   "source": [
    "df['activity'] = df['activity'].str.rstrip('%').astype(float) / 100"
   ]
  },
  {
   "cell_type": "code",
   "execution_count": 204,
   "id": "781da630",
   "metadata": {},
   "outputs": [],
   "source": [
    "df['no_of_reviews'] = df['no_of_reviews'].fillna(0)\n",
    "df['rating'] = df['rating'].fillna(df['rating'].mean())\n",
    "df['alcohol'] = df['alcohol'].fillna('Unknown')"
   ]
  },
  {
   "cell_type": "code",
   "execution_count": 205,
   "id": "54e3fe88",
   "metadata": {},
   "outputs": [],
   "source": [
    "def count_side_effects(side_effects_str):\n",
    "    if pd.isna(side_effects_str) or side_effects_str == '':\n",
    "        return 0\n",
    "    effects = re.split(r'[;,.\\\\n]', str(side_effects_str))\n",
    "    effects = [effect.strip().lower() for effect in effects if effect.strip()]\n",
    "    return len(effects)"
   ]
  },
  {
   "cell_type": "code",
   "execution_count": 206,
   "id": "5501bba6",
   "metadata": {},
   "outputs": [],
   "source": [
    "def count_drug_classes(classes_str):\n",
    "    if pd.isna(classes_str) or classes_str == '':\n",
    "        return 0\n",
    "    classes = [c.strip() for c in classes_str.split(',') if c.strip()]\n",
    "    return len(classes)"
   ]
  },
  {
   "cell_type": "code",
   "execution_count": 207,
   "id": "0bc87905",
   "metadata": {},
   "outputs": [],
   "source": [
    "df['num_side_effects'] = df['side_effects'].apply(count_side_effects)\n",
    "df['num_drug_classes'] = df['drug_classes'].apply(count_drug_classes)"
   ]
  },
  {
   "cell_type": "code",
   "execution_count": 208,
   "id": "5b1cf542",
   "metadata": {},
   "outputs": [],
   "source": [
    "df = df.drop(columns=['side_effects', 'drug_classes'])"
   ]
  },
  {
   "cell_type": "code",
   "execution_count": 209,
   "id": "bbedde21",
   "metadata": {},
   "outputs": [],
   "source": [
    "categorical_features = ['rx_otc', 'pregnancy_category', 'csa', 'alcohol']\n",
    "le_dict = {}\n",
    "for col in categorical_features:\n",
    "    le = LabelEncoder()\n",
    "    df[col] = le.fit_transform(df[col].astype(str))\n",
    "    le_dict[col] = le"
   ]
  },
  {
   "cell_type": "code",
   "execution_count": 210,
   "id": "5e007e5d",
   "metadata": {},
   "outputs": [],
   "source": [
    "le_condition = LabelEncoder()\n",
    "df['encoded_medical_condition'] = le_condition.fit_transform(df['medical_condition'].astype(str))\n"
   ]
  },
  {
   "cell_type": "code",
   "execution_count": 211,
   "id": "2fcaeff4",
   "metadata": {},
   "outputs": [],
   "source": [
    "numerical_features = ['activity', 'no_of_reviews', 'num_side_effects', 'num_drug_classes']\n",
    "\n",
    "numeric_transformer = Pipeline(steps=[\n",
    "    ('power', PowerTransformer(method='yeo-johnson')), \n",
    "    ('scaler', RobustScaler()) \n",
    "])"
   ]
  },
  {
   "cell_type": "code",
   "execution_count": 212,
   "id": "8878d9d5",
   "metadata": {},
   "outputs": [],
   "source": [
    "preprocessor = ColumnTransformer(\n",
    "    transformers=[\n",
    "        ('num', numeric_transformer, numerical_features)\n",
    "    ], remainder='passthrough'  # Keep encoded categoricals as is\n",
    ")\n",
    "\n",
    "# Prepare features and target\n",
    "all_features = numerical_features + categorical_features + ['encoded_medical_condition']\n",
    "X = df[all_features]\n",
    "y = df['rating']"
   ]
  },
  {
   "cell_type": "code",
   "execution_count": 213,
   "id": "b16b87ce",
   "metadata": {},
   "outputs": [],
   "source": [
    "processed_X = preprocessor.fit_transform(X)\n",
    "processed_columns = numerical_features + categorical_features + ['encoded_medical_condition']\n",
    "final_features_processed_df = pd.DataFrame(processed_X, columns=processed_columns, index=df.index)\n",
    "final_features_processed_df['drug_name'] = df['drug_name']\n",
    "final_features_processed_df['medical_condition'] = df['medical_condition']\n",
    "final_features_processed_df['rating'] = y"
   ]
  },
  {
   "cell_type": "code",
   "execution_count": 214,
   "id": "1134ba7d",
   "metadata": {},
   "outputs": [],
   "source": [
    "scaler = MinMaxScaler()\n",
    "final_features_processed_df[numerical_features] = scaler.fit_transform(final_features_processed_df[numerical_features])"
   ]
  },
  {
   "cell_type": "code",
   "execution_count": 215,
   "id": "c78d81b9",
   "metadata": {},
   "outputs": [],
   "source": [
    "# Normalize categorical features to [0, 1] to ensure scores stay in [0, 1]\n",
    "categorical_to_scale = categorical_features + ['encoded_medical_condition']\n",
    "scaler_cat = MinMaxScaler()\n",
    "final_features_processed_df[categorical_to_scale] = scaler_cat.fit_transform(final_features_processed_df[categorical_to_scale])"
   ]
  },
  {
   "cell_type": "code",
   "execution_count": 216,
   "id": "564f3ff3",
   "metadata": {},
   "outputs": [],
   "source": [
    "def calculate_feature_weights(df, target='rating'):\n",
    "    features = [col for col in df.select_dtypes(include=['number']).columns if col != target and col not in ['drug_name', 'medical_condition']]\n",
    "    if not features:\n",
    "        raise ValueError('No numerical features available for model fitting.')\n",
    "    \n",
    "    X = df[features]\n",
    "    y = df[target]\n",
    "    \n",
    "    X = X.fillna(X.mean())\n",
    "    valid_indices = y.notna()\n",
    "    X = X[valid_indices]\n",
    "    y = y[valid_indices]\n",
    "    \n",
    "    model = RandomForestRegressor(random_state=42)\n",
    "    model.fit(X, y)\n",
    "    \n",
    "    importances = dict(zip(features, model.feature_importances_))\n",
    "    total = sum(importances.values())\n",
    "    weights = {f: imp / total for f, imp in importances.items()}\n",
    "    return weights, features\n",
    "\n",
    "weights, features = calculate_feature_weights(final_features_processed_df)"
   ]
  },
  {
   "cell_type": "code",
   "execution_count": 217,
   "id": "464346e6",
   "metadata": {},
   "outputs": [],
   "source": [
    "def score_drug(row, weights, features, invert_features=None):\n",
    "    if invert_features is None:\n",
    "        invert_features = ['num_side_effects']  # Higher side effects are worse\n",
    "\n",
    "    score = 0.0\n",
    "    for feature in features:\n",
    "        if feature in weights:\n",
    "            value = row[feature]\n",
    "            if feature in invert_features:\n",
    "                score += weights[feature] * (1 - value)  # Invert for worse features\n",
    "            else:\n",
    "                score += weights[feature] * value\n",
    "    return score"
   ]
  },
  {
   "cell_type": "code",
   "execution_count": 218,
   "id": "931bfe81",
   "metadata": {},
   "outputs": [],
   "source": [
    "def filter_drugs_by_condition(df, condition):\n",
    "    return df[df['medical_condition'] == condition]\n"
   ]
  },
  {
   "cell_type": "code",
   "execution_count": 219,
   "id": "7f53d92c",
   "metadata": {},
   "outputs": [],
   "source": [
    "def recommend_drugs(df, condition, weights, features, top_n=5):\n",
    "    filtered = filter_drugs_by_condition(df, condition).copy()  # Create a copy to avoid warnings\n",
    "    if filtered.empty:\n",
    "        return pd.DataFrame(columns=['drug_name', 'score'])\n",
    "    \n",
    "    filtered.loc[:, 'score'] = filtered.apply(lambda row: score_drug(row, weights, features), axis=1)\n",
    "    ranked = filtered.sort_values(by='score', ascending=False)\n",
    "    return ranked[['drug_name', 'score']].head(top_n)"
   ]
  },
  {
   "cell_type": "code",
   "execution_count": 228,
   "id": "1789c34c",
   "metadata": {},
   "outputs": [
    {
     "name": "stdout",
     "output_type": "stream",
     "text": [
      "Top recommended drugs:\n",
      "                  drug_name     score\n",
      "443                 aspirin  0.751870\n",
      "446              metoprolol  0.747227\n",
      "444           nitroglycerin  0.743366\n",
      "445                  Ranexa  0.730319\n",
      "447  isosorbide mononitrate  0.717196\n"
     ]
    }
   ],
   "source": [
    "top_drugs = recommend_drugs(final_features_processed_df, 'Angina', weights, features, top_n=5)\n",
    "print('Top recommended drugs:')\n",
    "print(top_drugs)"
   ]
  },
  {
   "cell_type": "code",
   "execution_count": 221,
   "id": "eaa5d87f",
   "metadata": {},
   "outputs": [
    {
     "name": "stdout",
     "output_type": "stream",
     "text": [
      "Drug → Score mapping: {'Accutane': 0.6722106524711426, 'isotretinoin': 0.6665909733416683, 'spironolactone': 0.6471265229414442, 'doxycycline': 0.64233605142593, 'Bactrim': 0.6049867166771916}\n"
     ]
    }
   ],
   "source": [
    "drug_score_map = dict(zip(top_drugs[\"drug_name\"], top_drugs[\"score\"]))\n",
    "print(\"Drug → Score mapping:\", drug_score_map)"
   ]
  }
 ],
 "metadata": {
  "kernelspec": {
   "display_name": "Python 3",
   "language": "python",
   "name": "python3"
  },
  "language_info": {
   "codemirror_mode": {
    "name": "ipython",
    "version": 3
   },
   "file_extension": ".py",
   "mimetype": "text/x-python",
   "name": "python",
   "nbconvert_exporter": "python",
   "pygments_lexer": "ipython3",
   "version": "3.12.0"
  }
 },
 "nbformat": 4,
 "nbformat_minor": 5
}
